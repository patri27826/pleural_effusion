{
 "cells": [
  {
   "cell_type": "code",
   "execution_count": 8,
   "id": "857a5f70",
   "metadata": {},
   "outputs": [],
   "source": [
    "# Importing the necessary libraries\n",
    "\n",
    "import tensorflow as tf\n",
    "import albumentations as albu\n",
    "import numpy as np\n",
    "import gc\n",
    "import pickle\n",
    "import matplotlib.pyplot as plt\n",
    "from keras.callbacks import CSVLogger\n",
    "import datetime\n",
    "from sklearn.model_selection import train_test_split\n",
    "from sklearn.metrics import jaccard_score, precision_score, recall_score, accuracy_score, f1_score\n",
    "from ModelArchitecture.DiceLoss import dice_metric_loss\n",
    "from ModelArchitecture import Unet\n",
    "from ImageLoader import ImageLoader2D"
   ]
  },
  {
   "cell_type": "code",
   "execution_count": 9,
   "id": "7852dbbf-f3a4-4db6-8c5e-98889bf3abd4",
   "metadata": {
    "pycharm": {
     "is_executing": true
    }
   },
   "outputs": [
    {
     "name": "stdout",
     "output_type": "stream",
     "text": [
      "Num GPUs Available:  1\n"
     ]
    }
   ],
   "source": [
    "# Checking the number of GPUs available\n",
    "\n",
    "print(\"Num GPUs Available: \", len(tf.config.list_physical_devices('GPU')))"
   ]
  },
  {
   "cell_type": "code",
   "execution_count": 10,
   "id": "9edbe667",
   "metadata": {},
   "outputs": [],
   "source": [
    "# Setting the model parameters\n",
    "\n",
    "img_size = 352\n",
    "dataset_type = 'kvasir' # Options: kvasir/cvc-clinicdb/cvc-colondb/etis-laribpolypdb\n",
    "learning_rate = 1e-4\n",
    "seed_value = 58800\n",
    "filters = 17 # Number of filters, the paper presents the results with 17 and 34\n",
    "optimizer = tf.keras.optimizers.RMSprop(learning_rate=learning_rate)\n",
    "\n",
    "current_datetime = datetime.datetime.now()\n",
    "ct = \"_\".join([str(current_datetime.year), str(current_datetime.month), str(current_datetime.day), str(current_datetime.hour), str(current_datetime.minute), str(current_datetime.second)])\n",
    "\n",
    "model_type = \"Unet\"\n",
    "\n",
    "progress_path = 'ProgressFull/' + model_type + '_filters_' + str(filters) +  '_' + str(ct) + '.csv'\n",
    "progressfull_path = 'ProgressFull/' + model_type + '_filters_' + str(filters) + '_' + str(ct) + '.txt'\n",
    "plot_path = 'ProgressFull/' + model_type + '_filters_' + str(filters) + '_' + str(ct) + '.png'\n",
    "model_path = 'ModelSaveTensorFlow/' + model_type + '_filters_' + str(filters) + '_' + str(ct)\n",
    "\n",
    "EPOCHS = 600\n",
    "min_loss_for_saving = 0.9"
   ]
  },
  {
   "cell_type": "code",
   "execution_count": 11,
   "id": "264050d8",
   "metadata": {
    "pycharm": {
     "is_executing": true
    }
   },
   "outputs": [
    {
     "name": "stdout",
     "output_type": "stream",
     "text": [
      "Resizing training images and masks: 40\n"
     ]
    },
    {
     "name": "stderr",
     "output_type": "stream",
     "text": [
      "40it [00:05,  7.47it/s]\n"
     ]
    }
   ],
   "source": [
    "# Loading the data\n",
    "\n",
    "X, Y = ImageLoader2D.load_data(img_size, img_size, -1, 'kvasir')"
   ]
  },
  {
   "cell_type": "code",
   "execution_count": 12,
   "id": "75b6c029",
   "metadata": {},
   "outputs": [],
   "source": [
    "# Splitting the data, seed for reproducibility\n",
    "\n",
    "x_train, x_test, y_train, y_test = train_test_split(X, Y, test_size=0.1, shuffle= True, random_state = seed_value)\n",
    "x_train, x_valid, y_train, y_valid = train_test_split(x_train, y_train, test_size=0.111, shuffle= True, random_state = seed_value)"
   ]
  },
  {
   "cell_type": "code",
   "execution_count": 13,
   "id": "92a7b7d0",
   "metadata": {},
   "outputs": [],
   "source": [
    "# Defining the augmentations\n",
    "\n",
    "aug_train = albu.Compose([\n",
    "    albu.HorizontalFlip(),\n",
    "    albu.VerticalFlip(),\n",
    "    albu.ColorJitter(brightness=(0.6,1.6), contrast=0.2, saturation=0.1, hue=0.01, always_apply=True),\n",
    "    albu.Affine(scale=(0.5,1.5), translate_percent=(-0.125,0.125), rotate=(-180,180), shear=(-22.5,22), always_apply=True),\n",
    "])\n",
    "\n",
    "def augment_images():\n",
    "    x_train_out = []\n",
    "    y_train_out = []\n",
    "\n",
    "    for i in range (len(x_train)):\n",
    "        ug = aug_train(image=x_train[i], mask=y_train[i])\n",
    "        x_train_out.append(ug['image'])  \n",
    "        y_train_out.append(ug['mask'])\n",
    "\n",
    "    return np.array(x_train_out), np.array(y_train_out)"
   ]
  },
  {
   "cell_type": "code",
   "execution_count": 14,
   "id": "1609dd32",
   "metadata": {
    "pycharm": {
     "is_executing": true
    }
   },
   "outputs": [
    {
     "name": "stdout",
     "output_type": "stream",
     "text": [
      "Starting UNet\n"
     ]
    }
   ],
   "source": [
    "# Creating the model\n",
    "\n",
    "model = Unet.create_model(img_height=img_size, img_width=img_size, input_channels=3, out_classes=1, starting_filters=filters)"
   ]
  },
  {
   "cell_type": "code",
   "execution_count": 15,
   "id": "2e513d42",
   "metadata": {},
   "outputs": [],
   "source": [
    "# Compiling the model\n",
    "\n",
    "model.compile(optimizer=optimizer, loss=dice_metric_loss)"
   ]
  },
  {
   "cell_type": "code",
   "execution_count": 16,
   "id": "6ef712b9",
   "metadata": {
    "pycharm": {
     "is_executing": true
    }
   },
   "outputs": [
    {
     "name": "stdout",
     "output_type": "stream",
     "text": [
      "Training, epoch 0\n",
      "Learning Rate: 0.0001\n",
      "8/8 [==============================] - 9s 148ms/step - loss: 0.8077 - val_loss: 0.8164\n",
      "Loss Validation: 0.8163837\n",
      "Loss Test: 0.78263444\n",
      "Saved model with val_loss:  0.8163837\n"
     ]
    },
    {
     "name": "stderr",
     "output_type": "stream",
     "text": [
      "WARNING:absl:Found untraced functions such as _jit_compiled_convolution_op, _jit_compiled_convolution_op, _jit_compiled_convolution_op, _jit_compiled_convolution_op, _jit_compiled_convolution_op while saving (showing 5 of 23). These functions will not be directly callable after loading.\n"
     ]
    },
    {
     "name": "stdout",
     "output_type": "stream",
     "text": [
      "INFO:tensorflow:Assets written to: ModelSaveTensorFlow/Unet_filters_17_2023_9_18_23_16_16\\assets\n"
     ]
    },
    {
     "name": "stderr",
     "output_type": "stream",
     "text": [
      "INFO:tensorflow:Assets written to: ModelSaveTensorFlow/Unet_filters_17_2023_9_18_23_16_16\\assets\n"
     ]
    },
    {
     "name": "stdout",
     "output_type": "stream",
     "text": [
      "Training, epoch 1\n",
      "Learning Rate: 0.0001\n",
      "8/8 [==============================] - 1s 109ms/step - loss: 0.7623 - val_loss: 0.8138\n",
      "Loss Validation: 0.813812\n",
      "Loss Test: 0.78105223\n",
      "Saved model with val_loss:  0.813812\n"
     ]
    },
    {
     "name": "stderr",
     "output_type": "stream",
     "text": [
      "WARNING:absl:Found untraced functions such as _jit_compiled_convolution_op, _jit_compiled_convolution_op, _jit_compiled_convolution_op, _jit_compiled_convolution_op, _jit_compiled_convolution_op while saving (showing 5 of 23). These functions will not be directly callable after loading.\n"
     ]
    },
    {
     "name": "stdout",
     "output_type": "stream",
     "text": [
      "INFO:tensorflow:Assets written to: ModelSaveTensorFlow/Unet_filters_17_2023_9_18_23_16_16\\assets\n"
     ]
    },
    {
     "name": "stderr",
     "output_type": "stream",
     "text": [
      "INFO:tensorflow:Assets written to: ModelSaveTensorFlow/Unet_filters_17_2023_9_18_23_16_16\\assets\n"
     ]
    },
    {
     "name": "stdout",
     "output_type": "stream",
     "text": [
      "Training, epoch 2\n",
      "Learning Rate: 0.0001\n",
      "8/8 [==============================] - 1s 110ms/step - loss: 0.7071 - val_loss: 0.8080\n",
      "Loss Validation: 0.80796695\n",
      "Loss Test: 0.7738229\n",
      "Saved model with val_loss:  0.80796695\n"
     ]
    },
    {
     "name": "stderr",
     "output_type": "stream",
     "text": [
      "WARNING:absl:Found untraced functions such as _jit_compiled_convolution_op, _jit_compiled_convolution_op, _jit_compiled_convolution_op, _jit_compiled_convolution_op, _jit_compiled_convolution_op while saving (showing 5 of 23). These functions will not be directly callable after loading.\n"
     ]
    },
    {
     "name": "stdout",
     "output_type": "stream",
     "text": [
      "INFO:tensorflow:Assets written to: ModelSaveTensorFlow/Unet_filters_17_2023_9_18_23_16_16\\assets\n"
     ]
    },
    {
     "name": "stderr",
     "output_type": "stream",
     "text": [
      "INFO:tensorflow:Assets written to: ModelSaveTensorFlow/Unet_filters_17_2023_9_18_23_16_16\\assets\n"
     ]
    },
    {
     "name": "stdout",
     "output_type": "stream",
     "text": [
      "Training, epoch 3\n",
      "Learning Rate: 0.0001\n",
      "8/8 [==============================] - 1s 108ms/step - loss: 0.6836 - val_loss: 0.8055\n",
      "Loss Validation: 0.8055294\n",
      "Loss Test: 0.76908976\n",
      "Saved model with val_loss:  0.8055294\n"
     ]
    },
    {
     "name": "stderr",
     "output_type": "stream",
     "text": [
      "WARNING:absl:Found untraced functions such as _jit_compiled_convolution_op, _jit_compiled_convolution_op, _jit_compiled_convolution_op, _jit_compiled_convolution_op, _jit_compiled_convolution_op while saving (showing 5 of 23). These functions will not be directly callable after loading.\n"
     ]
    },
    {
     "name": "stdout",
     "output_type": "stream",
     "text": [
      "INFO:tensorflow:Assets written to: ModelSaveTensorFlow/Unet_filters_17_2023_9_18_23_16_16\\assets\n"
     ]
    },
    {
     "name": "stderr",
     "output_type": "stream",
     "text": [
      "INFO:tensorflow:Assets written to: ModelSaveTensorFlow/Unet_filters_17_2023_9_18_23_16_16\\assets\n"
     ]
    },
    {
     "name": "stdout",
     "output_type": "stream",
     "text": [
      "Training, epoch 4\n",
      "Learning Rate: 0.0001\n",
      "8/8 [==============================] - 1s 111ms/step - loss: 0.6719 - val_loss: 0.8055\n",
      "Loss Validation: 0.8055088\n",
      "Loss Test: 0.7662788\n",
      "Saved model with val_loss:  0.8055088\n"
     ]
    },
    {
     "name": "stderr",
     "output_type": "stream",
     "text": [
      "WARNING:absl:Found untraced functions such as _jit_compiled_convolution_op, _jit_compiled_convolution_op, _jit_compiled_convolution_op, _jit_compiled_convolution_op, _jit_compiled_convolution_op while saving (showing 5 of 23). These functions will not be directly callable after loading.\n"
     ]
    },
    {
     "name": "stdout",
     "output_type": "stream",
     "text": [
      "INFO:tensorflow:Assets written to: ModelSaveTensorFlow/Unet_filters_17_2023_9_18_23_16_16\\assets\n"
     ]
    },
    {
     "name": "stderr",
     "output_type": "stream",
     "text": [
      "INFO:tensorflow:Assets written to: ModelSaveTensorFlow/Unet_filters_17_2023_9_18_23_16_16\\assets\n"
     ]
    },
    {
     "name": "stdout",
     "output_type": "stream",
     "text": [
      "Training, epoch 5\n",
      "Learning Rate: 0.0001\n",
      "8/8 [==============================] - 1s 107ms/step - loss: 0.6819 - val_loss: 0.8144\n",
      "Loss Validation: 0.81435937\n",
      "Loss Test: 0.7707201\n",
      "Training, epoch 6\n",
      "Learning Rate: 0.0001\n",
      "8/8 [==============================] - 1s 112ms/step - loss: 0.6486 - val_loss: 0.8145\n",
      "Loss Validation: 0.81452864\n",
      "Loss Test: 0.7632048\n",
      "Training, epoch 7\n",
      "Learning Rate: 0.0001\n",
      "8/8 [==============================] - 1s 106ms/step - loss: 0.6171 - val_loss: 0.8127\n",
      "Loss Validation: 0.8126763\n",
      "Loss Test: 0.74239814\n",
      "Training, epoch 8\n",
      "Learning Rate: 0.0001\n",
      "8/8 [==============================] - 1s 111ms/step - loss: 0.6161 - val_loss: 0.8235\n",
      "Loss Validation: 0.8235475\n",
      "Loss Test: 0.75708234\n",
      "Training, epoch 9\n",
      "Learning Rate: 0.0001\n",
      "8/8 [==============================] - 1s 111ms/step - loss: 0.6155 - val_loss: 0.8307\n",
      "Loss Validation: 0.8306617\n",
      "Loss Test: 0.7714062\n",
      "Training, epoch 10\n",
      "Learning Rate: 0.0001\n",
      "8/8 [==============================] - 1s 112ms/step - loss: 0.6113 - val_loss: 0.8326\n",
      "Loss Validation: 0.83263654\n",
      "Loss Test: 0.7909744\n",
      "Training, epoch 11\n",
      "Learning Rate: 0.0001\n",
      "8/8 [==============================] - 1s 111ms/step - loss: 0.5728 - val_loss: 0.8230\n",
      "Loss Validation: 0.82302254\n",
      "Loss Test: 0.7964991\n",
      "Training, epoch 12\n",
      "Learning Rate: 0.0001\n",
      "8/8 [==============================] - 1s 107ms/step - loss: 0.6087 - val_loss: 0.8401\n",
      "Loss Validation: 0.8401183\n",
      "Loss Test: 0.8019675\n",
      "Training, epoch 13\n",
      "Learning Rate: 0.0001\n",
      "8/8 [==============================] - 1s 111ms/step - loss: 0.6012 - val_loss: 0.8240\n",
      "Loss Validation: 0.824015\n",
      "Loss Test: 0.73604465\n",
      "Training, epoch 14\n",
      "Learning Rate: 0.0001\n",
      "8/8 [==============================] - 1s 113ms/step - loss: 0.5751 - val_loss: 0.8427\n",
      "Loss Validation: 0.8427263\n",
      "Loss Test: 0.83037233\n",
      "Training, epoch 15\n",
      "Learning Rate: 0.0001\n",
      "8/8 [==============================] - 1s 113ms/step - loss: 0.5690 - val_loss: 0.7948\n",
      "Loss Validation: 0.7947565\n",
      "Loss Test: 0.6396755\n",
      "Saved model with val_loss:  0.7947565\n"
     ]
    },
    {
     "name": "stderr",
     "output_type": "stream",
     "text": [
      "WARNING:absl:Found untraced functions such as _jit_compiled_convolution_op, _jit_compiled_convolution_op, _jit_compiled_convolution_op, _jit_compiled_convolution_op, _jit_compiled_convolution_op while saving (showing 5 of 23). These functions will not be directly callable after loading.\n"
     ]
    },
    {
     "name": "stdout",
     "output_type": "stream",
     "text": [
      "INFO:tensorflow:Assets written to: ModelSaveTensorFlow/Unet_filters_17_2023_9_18_23_16_16\\assets\n"
     ]
    },
    {
     "name": "stderr",
     "output_type": "stream",
     "text": [
      "INFO:tensorflow:Assets written to: ModelSaveTensorFlow/Unet_filters_17_2023_9_18_23_16_16\\assets\n"
     ]
    },
    {
     "name": "stdout",
     "output_type": "stream",
     "text": [
      "Training, epoch 16\n",
      "Learning Rate: 0.0001\n",
      "8/8 [==============================] - 1s 107ms/step - loss: 0.5932 - val_loss: 0.8339\n",
      "Loss Validation: 0.8338735\n",
      "Loss Test: 0.810409\n",
      "Training, epoch 17\n",
      "Learning Rate: 0.0001\n",
      "8/8 [==============================] - 1s 116ms/step - loss: 0.5591 - val_loss: 0.8742\n",
      "Loss Validation: 0.87424135\n",
      "Loss Test: 0.8595016\n",
      "Training, epoch 18\n",
      "Learning Rate: 0.0001\n",
      "8/8 [==============================] - 1s 109ms/step - loss: 0.5606 - val_loss: 0.8619\n",
      "Loss Validation: 0.86186045\n",
      "Loss Test: 0.7823627\n",
      "Training, epoch 19\n",
      "Learning Rate: 0.0001\n",
      "8/8 [==============================] - 1s 114ms/step - loss: 0.5550 - val_loss: 0.8690\n",
      "Loss Validation: 0.86901104\n",
      "Loss Test: 0.7204229\n",
      "Training, epoch 20\n",
      "Learning Rate: 0.0001\n",
      "8/8 [==============================] - 1s 104ms/step - loss: 0.5594 - val_loss: 0.8640\n",
      "Loss Validation: 0.8639731\n",
      "Loss Test: 0.68647665\n",
      "Training, epoch 21\n",
      "Learning Rate: 0.0001\n",
      "8/8 [==============================] - 1s 104ms/step - loss: 0.5477 - val_loss: 0.8576\n",
      "Loss Validation: 0.85759753\n",
      "Loss Test: 0.7633722\n",
      "Training, epoch 22\n",
      "Learning Rate: 0.0001\n",
      "8/8 [==============================] - 1s 112ms/step - loss: 0.5476 - val_loss: 0.7892\n",
      "Loss Validation: 0.78917605\n",
      "Loss Test: 0.55262256\n",
      "Saved model with val_loss:  0.78917605\n"
     ]
    },
    {
     "name": "stderr",
     "output_type": "stream",
     "text": [
      "WARNING:absl:Found untraced functions such as _jit_compiled_convolution_op, _jit_compiled_convolution_op, _jit_compiled_convolution_op, _jit_compiled_convolution_op, _jit_compiled_convolution_op while saving (showing 5 of 23). These functions will not be directly callable after loading.\n"
     ]
    },
    {
     "name": "stdout",
     "output_type": "stream",
     "text": [
      "INFO:tensorflow:Assets written to: ModelSaveTensorFlow/Unet_filters_17_2023_9_18_23_16_16\\assets\n"
     ]
    },
    {
     "name": "stderr",
     "output_type": "stream",
     "text": [
      "INFO:tensorflow:Assets written to: ModelSaveTensorFlow/Unet_filters_17_2023_9_18_23_16_16\\assets\n"
     ]
    },
    {
     "name": "stdout",
     "output_type": "stream",
     "text": [
      "Training, epoch 23\n",
      "Learning Rate: 0.0001\n",
      "8/8 [==============================] - 1s 116ms/step - loss: 0.5418 - val_loss: 0.6202\n",
      "Loss Validation: 0.6201525\n",
      "Loss Test: 0.46650523\n",
      "Saved model with val_loss:  0.6201525\n"
     ]
    },
    {
     "name": "stderr",
     "output_type": "stream",
     "text": [
      "WARNING:absl:Found untraced functions such as _jit_compiled_convolution_op, _jit_compiled_convolution_op, _jit_compiled_convolution_op, _jit_compiled_convolution_op, _jit_compiled_convolution_op while saving (showing 5 of 23). These functions will not be directly callable after loading.\n"
     ]
    },
    {
     "name": "stdout",
     "output_type": "stream",
     "text": [
      "INFO:tensorflow:Assets written to: ModelSaveTensorFlow/Unet_filters_17_2023_9_18_23_16_16\\assets\n"
     ]
    },
    {
     "name": "stderr",
     "output_type": "stream",
     "text": [
      "INFO:tensorflow:Assets written to: ModelSaveTensorFlow/Unet_filters_17_2023_9_18_23_16_16\\assets\n"
     ]
    },
    {
     "name": "stdout",
     "output_type": "stream",
     "text": [
      "Training, epoch 24\n",
      "Learning Rate: 0.0001\n",
      "8/8 [==============================] - 1s 109ms/step - loss: 0.5263 - val_loss: 0.6622\n",
      "Loss Validation: 0.66224605\n",
      "Loss Test: 0.4308225\n",
      "Training, epoch 25\n",
      "Learning Rate: 0.0001\n",
      "8/8 [==============================] - 1s 109ms/step - loss: 0.5437 - val_loss: 0.7194\n",
      "Loss Validation: 0.7193514\n",
      "Loss Test: 0.46065378\n",
      "Training, epoch 26\n",
      "Learning Rate: 0.0001\n",
      "8/8 [==============================] - 1s 111ms/step - loss: 0.5775 - val_loss: 0.5938\n",
      "Loss Validation: 0.5937865\n",
      "Loss Test: 0.37383854\n",
      "Saved model with val_loss:  0.5937865\n"
     ]
    },
    {
     "name": "stderr",
     "output_type": "stream",
     "text": [
      "WARNING:absl:Found untraced functions such as _jit_compiled_convolution_op, _jit_compiled_convolution_op, _jit_compiled_convolution_op, _jit_compiled_convolution_op, _jit_compiled_convolution_op while saving (showing 5 of 23). These functions will not be directly callable after loading.\n"
     ]
    },
    {
     "name": "stdout",
     "output_type": "stream",
     "text": [
      "INFO:tensorflow:Assets written to: ModelSaveTensorFlow/Unet_filters_17_2023_9_18_23_16_16\\assets\n"
     ]
    },
    {
     "name": "stderr",
     "output_type": "stream",
     "text": [
      "INFO:tensorflow:Assets written to: ModelSaveTensorFlow/Unet_filters_17_2023_9_18_23_16_16\\assets\n"
     ]
    },
    {
     "name": "stdout",
     "output_type": "stream",
     "text": [
      "Training, epoch 27\n",
      "Learning Rate: 0.0001\n",
      "8/8 [==============================] - 1s 104ms/step - loss: 0.5148 - val_loss: 0.6122\n",
      "Loss Validation: 0.6122105\n",
      "Loss Test: 0.396792\n",
      "Training, epoch 28\n",
      "Learning Rate: 0.0001\n",
      "8/8 [==============================] - 1s 112ms/step - loss: 0.5430 - val_loss: 0.5548\n",
      "Loss Validation: 0.5547923\n",
      "Loss Test: 0.39403874\n",
      "Saved model with val_loss:  0.5547923\n"
     ]
    },
    {
     "name": "stderr",
     "output_type": "stream",
     "text": [
      "WARNING:absl:Found untraced functions such as _jit_compiled_convolution_op, _jit_compiled_convolution_op, _jit_compiled_convolution_op, _jit_compiled_convolution_op, _jit_compiled_convolution_op while saving (showing 5 of 23). These functions will not be directly callable after loading.\n"
     ]
    },
    {
     "name": "stdout",
     "output_type": "stream",
     "text": [
      "INFO:tensorflow:Assets written to: ModelSaveTensorFlow/Unet_filters_17_2023_9_18_23_16_16\\assets\n"
     ]
    },
    {
     "name": "stderr",
     "output_type": "stream",
     "text": [
      "INFO:tensorflow:Assets written to: ModelSaveTensorFlow/Unet_filters_17_2023_9_18_23_16_16\\assets\n"
     ]
    },
    {
     "name": "stdout",
     "output_type": "stream",
     "text": [
      "Training, epoch 29\n",
      "Learning Rate: 0.0001\n",
      "8/8 [==============================] - 1s 106ms/step - loss: 0.5421 - val_loss: 0.6960\n",
      "Loss Validation: 0.69595647\n",
      "Loss Test: 0.4101057\n",
      "Training, epoch 30\n",
      "Learning Rate: 0.0001\n",
      "8/8 [==============================] - 1s 118ms/step - loss: 0.5397 - val_loss: 0.5485\n",
      "Loss Validation: 0.5485429\n",
      "Loss Test: 0.38327777\n",
      "Saved model with val_loss:  0.5485429\n"
     ]
    },
    {
     "name": "stderr",
     "output_type": "stream",
     "text": [
      "WARNING:absl:Found untraced functions such as _jit_compiled_convolution_op, _jit_compiled_convolution_op, _jit_compiled_convolution_op, _jit_compiled_convolution_op, _jit_compiled_convolution_op while saving (showing 5 of 23). These functions will not be directly callable after loading.\n"
     ]
    },
    {
     "name": "stdout",
     "output_type": "stream",
     "text": [
      "INFO:tensorflow:Assets written to: ModelSaveTensorFlow/Unet_filters_17_2023_9_18_23_16_16\\assets\n"
     ]
    },
    {
     "name": "stderr",
     "output_type": "stream",
     "text": [
      "INFO:tensorflow:Assets written to: ModelSaveTensorFlow/Unet_filters_17_2023_9_18_23_16_16\\assets\n"
     ]
    },
    {
     "name": "stdout",
     "output_type": "stream",
     "text": [
      "Training, epoch 31\n",
      "Learning Rate: 0.0001\n",
      "8/8 [==============================] - 1s 110ms/step - loss: 0.5460 - val_loss: 0.5834\n",
      "Loss Validation: 0.5833983\n",
      "Loss Test: 0.44763666\n",
      "Training, epoch 32\n",
      "Learning Rate: 0.0001\n",
      "8/8 [==============================] - 1s 107ms/step - loss: 0.5109 - val_loss: 0.6583\n",
      "Loss Validation: 0.658344\n",
      "Loss Test: 0.3294869\n",
      "Training, epoch 33\n",
      "Learning Rate: 0.0001\n",
      "8/8 [==============================] - 1s 117ms/step - loss: 0.5394 - val_loss: 0.5373\n",
      "Loss Validation: 0.5372516\n",
      "Loss Test: 0.35763812\n",
      "Saved model with val_loss:  0.5372516\n"
     ]
    },
    {
     "name": "stderr",
     "output_type": "stream",
     "text": [
      "WARNING:absl:Found untraced functions such as _jit_compiled_convolution_op, _jit_compiled_convolution_op, _jit_compiled_convolution_op, _jit_compiled_convolution_op, _jit_compiled_convolution_op while saving (showing 5 of 23). These functions will not be directly callable after loading.\n"
     ]
    },
    {
     "name": "stdout",
     "output_type": "stream",
     "text": [
      "INFO:tensorflow:Assets written to: ModelSaveTensorFlow/Unet_filters_17_2023_9_18_23_16_16\\assets\n"
     ]
    },
    {
     "name": "stderr",
     "output_type": "stream",
     "text": [
      "INFO:tensorflow:Assets written to: ModelSaveTensorFlow/Unet_filters_17_2023_9_18_23_16_16\\assets\n"
     ]
    },
    {
     "name": "stdout",
     "output_type": "stream",
     "text": [
      "Training, epoch 34\n",
      "Learning Rate: 0.0001\n",
      "8/8 [==============================] - 1s 110ms/step - loss: 0.5297 - val_loss: 0.6083\n",
      "Loss Validation: 0.6083008\n",
      "Loss Test: 0.33446425\n",
      "Training, epoch 35\n",
      "Learning Rate: 0.0001\n",
      "8/8 [==============================] - 1s 110ms/step - loss: 0.5079 - val_loss: 0.6630\n",
      "Loss Validation: 0.6630373\n",
      "Loss Test: 0.36224204\n",
      "Training, epoch 36\n",
      "Learning Rate: 0.0001\n",
      "8/8 [==============================] - 1s 111ms/step - loss: 0.5162 - val_loss: 0.6139\n",
      "Loss Validation: 0.61390066\n",
      "Loss Test: 0.34377676\n",
      "Training, epoch 37\n",
      "Learning Rate: 0.0001\n",
      "8/8 [==============================] - 1s 115ms/step - loss: 0.5218 - val_loss: 0.5659\n",
      "Loss Validation: 0.56589735\n",
      "Loss Test: 0.36008692\n",
      "Training, epoch 38\n",
      "Learning Rate: 0.0001\n",
      "8/8 [==============================] - 1s 112ms/step - loss: 0.5141 - val_loss: 0.5525\n",
      "Loss Validation: 0.5524674\n",
      "Loss Test: 0.33688343\n",
      "Training, epoch 39\n",
      "Learning Rate: 0.0001\n",
      "8/8 [==============================] - 1s 112ms/step - loss: 0.5280 - val_loss: 0.5506\n",
      "Loss Validation: 0.55056155\n",
      "Loss Test: 0.37891543\n",
      "Training, epoch 40\n",
      "Learning Rate: 0.0001\n",
      "8/8 [==============================] - 1s 110ms/step - loss: 0.5291 - val_loss: 0.6018\n",
      "Loss Validation: 0.6018127\n",
      "Loss Test: 0.31909597\n",
      "Training, epoch 41\n",
      "Learning Rate: 0.0001\n",
      "8/8 [==============================] - 1s 106ms/step - loss: 0.4949 - val_loss: 0.5873\n",
      "Loss Validation: 0.58726454\n",
      "Loss Test: 0.3370372\n",
      "Training, epoch 42\n",
      "Learning Rate: 0.0001\n",
      "8/8 [==============================] - 1s 112ms/step - loss: 0.4827 - val_loss: 0.6430\n",
      "Loss Validation: 0.6430135\n",
      "Loss Test: 0.36757272\n",
      "Training, epoch 43\n",
      "Learning Rate: 0.0001\n",
      "8/8 [==============================] - 1s 104ms/step - loss: 0.5158 - val_loss: 0.5287\n",
      "Loss Validation: 0.52870935\n",
      "Loss Test: 0.34189343\n",
      "Saved model with val_loss:  0.52870935\n"
     ]
    },
    {
     "name": "stderr",
     "output_type": "stream",
     "text": [
      "WARNING:absl:Found untraced functions such as _jit_compiled_convolution_op, _jit_compiled_convolution_op, _jit_compiled_convolution_op, _jit_compiled_convolution_op, _jit_compiled_convolution_op while saving (showing 5 of 23). These functions will not be directly callable after loading.\n"
     ]
    },
    {
     "name": "stdout",
     "output_type": "stream",
     "text": [
      "INFO:tensorflow:Assets written to: ModelSaveTensorFlow/Unet_filters_17_2023_9_18_23_16_16\\assets\n"
     ]
    },
    {
     "name": "stderr",
     "output_type": "stream",
     "text": [
      "INFO:tensorflow:Assets written to: ModelSaveTensorFlow/Unet_filters_17_2023_9_18_23_16_16\\assets\n"
     ]
    },
    {
     "name": "stdout",
     "output_type": "stream",
     "text": [
      "Training, epoch 44\n",
      "Learning Rate: 0.0001\n",
      "8/8 [==============================] - 1s 114ms/step - loss: 0.5126 - val_loss: 0.5372\n",
      "Loss Validation: 0.5372158\n",
      "Loss Test: 0.34246725\n",
      "Training, epoch 45\n",
      "Learning Rate: 0.0001\n",
      "8/8 [==============================] - 1s 113ms/step - loss: 0.5262 - val_loss: 0.5284\n",
      "Loss Validation: 0.52843755\n",
      "Loss Test: 0.36604524\n",
      "Saved model with val_loss:  0.52843755\n"
     ]
    },
    {
     "name": "stderr",
     "output_type": "stream",
     "text": [
      "WARNING:absl:Found untraced functions such as _jit_compiled_convolution_op, _jit_compiled_convolution_op, _jit_compiled_convolution_op, _jit_compiled_convolution_op, _jit_compiled_convolution_op while saving (showing 5 of 23). These functions will not be directly callable after loading.\n"
     ]
    },
    {
     "name": "stdout",
     "output_type": "stream",
     "text": [
      "INFO:tensorflow:Assets written to: ModelSaveTensorFlow/Unet_filters_17_2023_9_18_23_16_16\\assets\n"
     ]
    },
    {
     "name": "stderr",
     "output_type": "stream",
     "text": [
      "INFO:tensorflow:Assets written to: ModelSaveTensorFlow/Unet_filters_17_2023_9_18_23_16_16\\assets\n"
     ]
    },
    {
     "name": "stdout",
     "output_type": "stream",
     "text": [
      "Training, epoch 46\n",
      "Learning Rate: 0.0001\n",
      "8/8 [==============================] - 1s 105ms/step - loss: 0.5083 - val_loss: 0.5375\n",
      "Loss Validation: 0.5375212\n",
      "Loss Test: 0.29877186\n",
      "Training, epoch 47\n",
      "Learning Rate: 0.0001\n",
      "8/8 [==============================] - 1s 114ms/step - loss: 0.5163 - val_loss: 0.5183\n",
      "Loss Validation: 0.5183109\n",
      "Loss Test: 0.38819098\n",
      "Saved model with val_loss:  0.5183109\n"
     ]
    },
    {
     "name": "stderr",
     "output_type": "stream",
     "text": [
      "WARNING:absl:Found untraced functions such as _jit_compiled_convolution_op, _jit_compiled_convolution_op, _jit_compiled_convolution_op, _jit_compiled_convolution_op, _jit_compiled_convolution_op while saving (showing 5 of 23). These functions will not be directly callable after loading.\n"
     ]
    },
    {
     "name": "stdout",
     "output_type": "stream",
     "text": [
      "INFO:tensorflow:Assets written to: ModelSaveTensorFlow/Unet_filters_17_2023_9_18_23_16_16\\assets\n"
     ]
    },
    {
     "name": "stderr",
     "output_type": "stream",
     "text": [
      "INFO:tensorflow:Assets written to: ModelSaveTensorFlow/Unet_filters_17_2023_9_18_23_16_16\\assets\n"
     ]
    },
    {
     "name": "stdout",
     "output_type": "stream",
     "text": [
      "Training, epoch 48\n",
      "Learning Rate: 0.0001\n",
      "8/8 [==============================] - 1s 115ms/step - loss: 0.4822 - val_loss: 0.4871\n",
      "Loss Validation: 0.4871201\n",
      "Loss Test: 0.3715014\n",
      "Saved model with val_loss:  0.4871201\n"
     ]
    },
    {
     "name": "stderr",
     "output_type": "stream",
     "text": [
      "WARNING:absl:Found untraced functions such as _jit_compiled_convolution_op, _jit_compiled_convolution_op, _jit_compiled_convolution_op, _jit_compiled_convolution_op, _jit_compiled_convolution_op while saving (showing 5 of 23). These functions will not be directly callable after loading.\n"
     ]
    },
    {
     "name": "stdout",
     "output_type": "stream",
     "text": [
      "INFO:tensorflow:Assets written to: ModelSaveTensorFlow/Unet_filters_17_2023_9_18_23_16_16\\assets\n"
     ]
    },
    {
     "name": "stderr",
     "output_type": "stream",
     "text": [
      "INFO:tensorflow:Assets written to: ModelSaveTensorFlow/Unet_filters_17_2023_9_18_23_16_16\\assets\n"
     ]
    },
    {
     "name": "stdout",
     "output_type": "stream",
     "text": [
      "Training, epoch 49\n",
      "Learning Rate: 0.0001\n",
      "8/8 [==============================] - 1s 112ms/step - loss: 0.4952 - val_loss: 0.4929\n",
      "Loss Validation: 0.4928888\n",
      "Loss Test: 0.3362018\n",
      "Training, epoch 50\n",
      "Learning Rate: 0.0001\n",
      "8/8 [==============================] - 1s 112ms/step - loss: 0.4862 - val_loss: 0.5256\n",
      "Loss Validation: 0.5256101\n",
      "Loss Test: 0.36035568\n",
      "Training, epoch 51\n",
      "Learning Rate: 0.0001\n",
      "8/8 [==============================] - 1s 107ms/step - loss: 0.4770 - val_loss: 0.6717\n",
      "Loss Validation: 0.67173284\n",
      "Loss Test: 0.30696642\n",
      "Training, epoch 52\n",
      "Learning Rate: 0.0001\n",
      "8/8 [==============================] - 1s 107ms/step - loss: 0.4810 - val_loss: 0.6621\n",
      "Loss Validation: 0.6621095\n",
      "Loss Test: 0.31420654\n",
      "Training, epoch 53\n",
      "Learning Rate: 0.0001\n",
      "8/8 [==============================] - 1s 111ms/step - loss: 0.5055 - val_loss: 0.6965\n",
      "Loss Validation: 0.6965002\n",
      "Loss Test: 0.35916752\n",
      "Training, epoch 54\n",
      "Learning Rate: 0.0001\n",
      "8/8 [==============================] - 1s 111ms/step - loss: 0.5217 - val_loss: 0.5430\n",
      "Loss Validation: 0.5430357\n",
      "Loss Test: 0.30880767\n",
      "Training, epoch 55\n",
      "Learning Rate: 0.0001\n",
      "8/8 [==============================] - 1s 116ms/step - loss: 0.4957 - val_loss: 0.5734\n",
      "Loss Validation: 0.5734496\n",
      "Loss Test: 0.27850854\n",
      "Training, epoch 56\n",
      "Learning Rate: 0.0001\n",
      "8/8 [==============================] - 1s 112ms/step - loss: 0.4842 - val_loss: 0.5011\n",
      "Loss Validation: 0.5010571\n",
      "Loss Test: 0.39678955\n",
      "Training, epoch 57\n",
      "Learning Rate: 0.0001\n",
      "8/8 [==============================] - 1s 115ms/step - loss: 0.5047 - val_loss: 0.5580\n",
      "Loss Validation: 0.5580158\n",
      "Loss Test: 0.33513993\n",
      "Training, epoch 58\n",
      "Learning Rate: 0.0001\n",
      "8/8 [==============================] - 1s 109ms/step - loss: 0.4685 - val_loss: 0.5815\n",
      "Loss Validation: 0.58147067\n",
      "Loss Test: 0.27114636\n",
      "Training, epoch 59\n",
      "Learning Rate: 0.0001\n",
      "8/8 [==============================] - 1s 110ms/step - loss: 0.4669 - val_loss: 0.5546\n",
      "Loss Validation: 0.5545502\n",
      "Loss Test: 0.29492015\n",
      "Training, epoch 60\n",
      "Learning Rate: 0.0001\n",
      "8/8 [==============================] - 1s 114ms/step - loss: 0.4857 - val_loss: 0.6380\n",
      "Loss Validation: 0.6379895\n",
      "Loss Test: 0.37932557\n",
      "Training, epoch 61\n",
      "Learning Rate: 0.0001\n",
      "8/8 [==============================] - 1s 109ms/step - loss: 0.4926 - val_loss: 0.4857\n",
      "Loss Validation: 0.48572683\n",
      "Loss Test: 0.29789293\n",
      "Saved model with val_loss:  0.48572683\n"
     ]
    },
    {
     "name": "stderr",
     "output_type": "stream",
     "text": [
      "WARNING:absl:Found untraced functions such as _jit_compiled_convolution_op, _jit_compiled_convolution_op, _jit_compiled_convolution_op, _jit_compiled_convolution_op, _jit_compiled_convolution_op while saving (showing 5 of 23). These functions will not be directly callable after loading.\n"
     ]
    },
    {
     "name": "stdout",
     "output_type": "stream",
     "text": [
      "INFO:tensorflow:Assets written to: ModelSaveTensorFlow/Unet_filters_17_2023_9_18_23_16_16\\assets\n"
     ]
    },
    {
     "name": "stderr",
     "output_type": "stream",
     "text": [
      "INFO:tensorflow:Assets written to: ModelSaveTensorFlow/Unet_filters_17_2023_9_18_23_16_16\\assets\n"
     ]
    },
    {
     "name": "stdout",
     "output_type": "stream",
     "text": [
      "Training, epoch 62\n",
      "Learning Rate: 0.0001\n",
      "8/8 [==============================] - 1s 108ms/step - loss: 0.4780 - val_loss: 0.5279\n",
      "Loss Validation: 0.5279209\n",
      "Loss Test: 0.28276324\n",
      "Training, epoch 63\n",
      "Learning Rate: 0.0001\n",
      "8/8 [==============================] - 1s 111ms/step - loss: 0.4562 - val_loss: 0.6544\n",
      "Loss Validation: 0.6544225\n",
      "Loss Test: 0.28987926\n",
      "Training, epoch 64\n",
      "Learning Rate: 0.0001\n",
      "8/8 [==============================] - 1s 110ms/step - loss: 0.4844 - val_loss: 0.4830\n",
      "Loss Validation: 0.48299724\n",
      "Loss Test: 0.29513532\n",
      "Saved model with val_loss:  0.48299724\n"
     ]
    },
    {
     "name": "stderr",
     "output_type": "stream",
     "text": [
      "WARNING:absl:Found untraced functions such as _jit_compiled_convolution_op, _jit_compiled_convolution_op, _jit_compiled_convolution_op, _jit_compiled_convolution_op, _jit_compiled_convolution_op while saving (showing 5 of 23). These functions will not be directly callable after loading.\n"
     ]
    }
   ],
   "source": [
    "# Training the model\n",
    "\n",
    "step = 0\n",
    "\n",
    "for epoch in range(0, EPOCHS):\n",
    "    \n",
    "    print(f'Training, epoch {epoch}')\n",
    "    print('Learning Rate: ' + str(learning_rate))\n",
    "\n",
    "    step += 1\n",
    "        \n",
    "    image_augmented, mask_augmented = augment_images()\n",
    "    \n",
    "    csv_logger = CSVLogger(progress_path, append=True, separator=';')\n",
    "    \n",
    "    model.fit(x=image_augmented, y=mask_augmented, epochs=1, batch_size=4, validation_data=(x_valid, y_valid), verbose=1, callbacks=[csv_logger])\n",
    "    \n",
    "    prediction_valid = model.predict(x_valid, verbose=0)\n",
    "    loss_valid = dice_metric_loss(y_valid, prediction_valid)\n",
    "    \n",
    "    loss_valid = loss_valid.numpy()\n",
    "    print(\"Loss Validation: \" + str(loss_valid))\n",
    "        \n",
    "    prediction_test = model.predict(x_test, verbose=0)\n",
    "    loss_test = dice_metric_loss(y_test, prediction_test)\n",
    "    loss_test = loss_test.numpy()\n",
    "    print(\"Loss Test: \" + str(loss_test))\n",
    "        \n",
    "    with open(progressfull_path, 'a') as f:\n",
    "        f.write('epoch: ' + str(epoch) + '\\nval_loss: ' + str(loss_valid) + '\\ntest_loss: ' + str(loss_test) + '\\n\\n\\n')\n",
    "    \n",
    "    if min_loss_for_saving > loss_valid:\n",
    "        min_loss_for_saving = loss_valid\n",
    "        print(\"Saved model with val_loss: \", loss_valid)\n",
    "        model.save(model_path)\n",
    "        \n",
    "    del image_augmented\n",
    "    del mask_augmented\n",
    "\n",
    "    gc.collect()"
   ]
  },
  {
   "cell_type": "code",
   "execution_count": null,
   "id": "2cd52447",
   "metadata": {
    "pycharm": {
     "is_executing": true
    }
   },
   "outputs": [
    {
     "name": "stdout",
     "output_type": "stream",
     "text": [
      "Loading the model\n",
      "8/8 [==============================] - 4s 168ms/step\n",
      "1/1 [==============================] - 0s 138ms/step\n",
      "1/1 [==============================] - 0s 140ms/step\n"
     ]
    },
    {
     "data": {
      "image/png": "[encoded data removed]",
      "text/plain": [
       "<Figure size 1500x1000 with 12 Axes>"
      ]
     },
     "metadata": {},
     "output_type": "display_data"
    },
    {
     "name": "stdout",
     "output_type": "stream",
     "text": [
      "Predictions done\n",
      "Dice finished\n",
      "Miou finished\n",
      "Precision finished\n",
      "Recall finished\n",
      "Accuracy finished\n",
      "results_DuckNet_17_kvasir.txt\n",
      "File done\n"
     ]
    }
   ],
   "source": [
    "# Computing the metrics and saving the results\n",
    "\n",
    "print(\"Loading the model\")\n",
    "\n",
    "model = tf.keras.models.load_model(model_path, custom_objects={'dice_metric_loss':dice_metric_loss})\n",
    "\n",
    "prediction_train = model.predict(x_train, batch_size=4)\n",
    "prediction_valid = model.predict(x_valid, batch_size=4)\n",
    "prediction_test = model.predict(x_test, batch_size=4)\n",
    "\n",
    "fig, axs = plt.subplots(4, 3, figsize=(15, 10))\n",
    "\n",
    "for i in range(len(prediction_test)):\n",
    "    origin = x_test[i]\n",
    "    origin = origin.squeeze()\n",
    "    axs[i, 0].imshow(origin, cmap='gray') \n",
    "    axs[i, 0].set_title('Origin Image')\n",
    "\n",
    "    mask = y_test[i]\n",
    "    mask = mask.squeeze()\n",
    "    axs[i, 1].imshow(mask, cmap='gray') \n",
    "    axs[i, 1].set_title('Mask Image')\n",
    "    \n",
    "    pred = prediction_test[i]\n",
    "    pred = pred.squeeze()\n",
    "    axs[i, 2].imshow(pred, cmap='gray')\n",
    "    axs[i, 2].set_title('Predict Image')\n",
    "\n",
    "plt.tight_layout()\n",
    "plt.show()\n",
    "\n",
    "print(\"Predictions done\")\n",
    "\n",
    "dice_train = f1_score(np.ndarray.flatten(np.array(y_train, dtype=bool)),\n",
    "                           np.ndarray.flatten(prediction_train > 0.5))\n",
    "dice_test = f1_score(np.ndarray.flatten(np.array(y_test, dtype=bool)),\n",
    "                          np.ndarray.flatten(prediction_test > 0.5))\n",
    "dice_valid = f1_score(np.ndarray.flatten(np.array(y_valid, dtype=bool)),\n",
    "                           np.ndarray.flatten(prediction_valid > 0.5))\n",
    "\n",
    "print(\"Dice finished\")\n",
    "\n",
    "\n",
    "miou_train = jaccard_score(np.ndarray.flatten(np.array(y_train, dtype=bool)),\n",
    "                           np.ndarray.flatten(prediction_train > 0.5))\n",
    "miou_test = jaccard_score(np.ndarray.flatten(np.array(y_test, dtype=bool)),\n",
    "                          np.ndarray.flatten(prediction_test > 0.5))\n",
    "miou_valid = jaccard_score(np.ndarray.flatten(np.array(y_valid, dtype=bool)),\n",
    "                           np.ndarray.flatten(prediction_valid > 0.5))\n",
    "\n",
    "print(\"Miou finished\")\n",
    "\n",
    "\n",
    "precision_train = precision_score(np.ndarray.flatten(np.array(y_train, dtype=bool)),\n",
    "                                  np.ndarray.flatten(prediction_train > 0.5))\n",
    "precision_test = precision_score(np.ndarray.flatten(np.array(y_test, dtype=bool)),\n",
    "                                 np.ndarray.flatten(prediction_test > 0.5))\n",
    "precision_valid = precision_score(np.ndarray.flatten(np.array(y_valid, dtype=bool)),\n",
    "                                  np.ndarray.flatten(prediction_valid > 0.5))\n",
    "\n",
    "print(\"Precision finished\")\n",
    "\n",
    "\n",
    "recall_train = recall_score(np.ndarray.flatten(np.array(y_train, dtype=bool)),\n",
    "                            np.ndarray.flatten(prediction_train > 0.5))\n",
    "recall_test = recall_score(np.ndarray.flatten(np.array(y_test, dtype=bool)),\n",
    "                           np.ndarray.flatten(prediction_test > 0.5))\n",
    "recall_valid = recall_score(np.ndarray.flatten(np.array(y_valid, dtype=bool)),\n",
    "                            np.ndarray.flatten(prediction_valid > 0.5))\n",
    "\n",
    "print(\"Recall finished\")\n",
    "\n",
    "\n",
    "accuracy_train = accuracy_score(np.ndarray.flatten(np.array(y_train, dtype=bool)),\n",
    "                                np.ndarray.flatten(prediction_train > 0.5))\n",
    "accuracy_test = accuracy_score(np.ndarray.flatten(np.array(y_test, dtype=bool)),\n",
    "                               np.ndarray.flatten(prediction_test > 0.5))\n",
    "accuracy_valid = accuracy_score(np.ndarray.flatten(np.array(y_valid, dtype=bool)),\n",
    "                                np.ndarray.flatten(prediction_valid > 0.5))\n",
    "\n",
    "\n",
    "print(\"Accuracy finished\")\n",
    "\n",
    "\n",
    "final_file = 'results_' + model_type + '_' + str(filters) + '_' + dataset_type + '.txt'\n",
    "print(final_file)\n",
    "\n",
    "with open(final_file, 'a') as f:\n",
    "    f.write(dataset_type + '\\n\\n')\n",
    "    f.write('dice_train: ' + str(dice_train) + ' dice_valid: ' + str(dice_valid) + ' dice_test: ' + str(dice_test) + '\\n\\n')\n",
    "    f.write('miou_train: ' + str(miou_train) + ' miou_valid: ' + str(miou_valid) + ' miou_test: ' + str(miou_test) + '\\n\\n')\n",
    "    f.write('precision_train: ' + str(precision_train) + ' precision_valid: ' + str(precision_valid) + ' precision_test: ' + str(precision_test) + '\\n\\n')\n",
    "    f.write('recall_train: ' + str(recall_train) + ' recall_valid: ' + str(recall_valid) + ' recall_test: ' + str(recall_test) + '\\n\\n')\n",
    "    f.write('accuracy_train: ' + str(accuracy_train) + ' accuracy_valid: ' + str(accuracy_valid) + ' accuracy_test: ' + str(accuracy_test) + '\\n\\n\\n\\n')\n",
    "\n",
    "print('File done')"
   ]
  }
 ],
 "metadata": {
  "kernelspec": {
   "display_name": "Python 3",
   "language": "python",
   "name": "python3"
  },
  "language_info": {
   "codemirror_mode": {
    "name": "ipython",
    "version": 3
   },
   "file_extension": ".py",
   "mimetype": "text/x-python",
   "name": "python",
   "nbconvert_exporter": "python",
   "pygments_lexer": "ipython3",
   "version": "3.10.13"
  }
 },
 "nbformat": 4,
 "nbformat_minor": 5
}
